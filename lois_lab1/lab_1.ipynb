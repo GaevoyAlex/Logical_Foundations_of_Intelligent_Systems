{
 "cells": [
  {
   "attachments": {},
   "cell_type": "markdown",
   "metadata": {},
   "source": [
    "Гаевой Александр"
   ]
  },
  {
   "attachments": {},
   "cell_type": "markdown",
   "metadata": {},
   "source": [
    "Лабораторная работа 1"
   ]
  },
  {
   "attachments": {},
   "cell_type": "markdown",
   "metadata": {},
   "source": [
    "Имликация Геделя"
   ]
  },
  {
   "cell_type": "code",
   "execution_count": 8,
   "metadata": {},
   "outputs": [
    {
     "name": "stdout",
     "output_type": "stream",
     "text": [
      "\n",
      "\n",
      "A:\n",
      " [[1.  0.7]\n",
      " [2.  0.6]\n",
      " [3.  0.3]\n",
      " [4.  0.1]]\n",
      "\n",
      "\n",
      "B:\n",
      " [[1.  1. ]\n",
      " [2.  0.4]\n",
      " [3.  0.1]\n",
      " [4.  0. ]]\n",
      "\n",
      "\n",
      "Gudel Matrx:\n",
      " [[1.  0.4 0.1 0. ]\n",
      " [1.  0.4 0.1 0. ]\n",
      " [1.  1.  0.1 0. ]\n",
      " [1.  1.  1.  0. ]]\n",
      "\n",
      "\n",
      "C:\n",
      " [0.9 0.7 0.5 0.3]\n",
      "\n",
      "\n",
      "T-norm:\n",
      " [[0.9 0.4 0.1 0. ]\n",
      " [0.7 0.4 0.1 0. ]\n",
      " [0.5 0.5 0.1 0. ]\n",
      " [0.3 0.3 0.3 0. ]]\n",
      "\n",
      "\n",
      "Result:\n",
      " [0.9 0.5 0.3 0. ]\n"
     ]
    }
   ],
   "source": [
    "import numpy as np \n",
    "import json \n",
    "\n",
    "\n",
    "def t_norm(a, b):\n",
    "    return np.minimum(a, b)\n",
    "\n",
    "\n",
    "def godel_implication(a, b):\n",
    "    return np.where(a > b, b, 1.0)\n",
    "\n",
    "def main(data):\n",
    "\n",
    "    A = np.array(data['predicates']['A'])\n",
    "    B = np.array(data['predicates']['B'])\n",
    "    # Посылка\n",
    "    C = np.array([x[1] for x in data['Premises'][\"C\"]])\n",
    "\n",
    "    a_probs = A[:, 1][:, np.newaxis]\n",
    "    b_probs = B[:, 1]\n",
    "\n",
    "    implications = godel_implication(a_probs, b_probs)\n",
    "\n",
    "\n",
    "\n",
    "    t_norm = np.minimum(C.T, implications.T)\n",
    "\n",
    "    result = np.amax(t_norm, axis=1)\n",
    "\n",
    "    result_dict = {str(pair[0]): supremum for pair, supremum in zip(data['predicates']['B'], result)}\n",
    "\n",
    "    with open('output/results.json', 'w') as f:\n",
    "        json.dump(result_dict, f)\n",
    "\n",
    "\n",
    "    print(\"\\n\\nA:\\n\", A)\n",
    "    print(\"\\n\\nB:\\n\", B)\n",
    "    print(\"\\n\\nGudel Matrx:\\n\", implications)\n",
    "    print(\"\\n\\nC:\\n\", C)\n",
    "    print(\"\\n\\nT-norm:\\n\", t_norm.T)\n",
    "    print(\"\\n\\nResult:\\n\", result)\n",
    "\n",
    "if __name__ == '__main__':\n",
    "    with open('input/input.json') as f:\n",
    "        data = json.load(f)\n",
    "        main(data)\n"
   ]
  }
 ],
 "metadata": {
  "kernelspec": {
   "display_name": "Python 3",
   "language": "python",
   "name": "python3"
  },
  "language_info": {
   "codemirror_mode": {
    "name": "ipython",
    "version": 3
   },
   "file_extension": ".py",
   "mimetype": "text/x-python",
   "name": "python",
   "nbconvert_exporter": "python",
   "pygments_lexer": "ipython3",
   "version": "3.11.5"
  },
  "orig_nbformat": 4
 },
 "nbformat": 4,
 "nbformat_minor": 2
}
